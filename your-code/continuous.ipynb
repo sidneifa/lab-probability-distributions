{
 "cells": [
  {
   "cell_type": "code",
   "execution_count": 35,
   "metadata": {},
   "outputs": [],
   "source": [
    "import matplotlib.pyplot as plt\n",
    "from scipy.stats import uniform\n",
    "from scipy.stats import norm\n",
    "import pandas as pd\n",
    "import numpy as np\n",
    "import random\n",
    "from scipy.stats import expon"
   ]
  },
  {
   "cell_type": "markdown",
   "metadata": {},
   "source": [
    "# Before your start:\n",
    "\n",
    "    Read the README.md file\n",
    "    Comment as much as you can and use the resources (README.md file)\n",
    "    Happy learning!"
   ]
  },
  {
   "cell_type": "markdown",
   "metadata": {},
   "source": [
    "In this exercise, we  will generate random numbers from the continuous disributions we learned in the lesson. There are two ways to generate random numbers:\n",
    "\n",
    "1. Using the numpy library \n",
    "1. using the Scipy library \n",
    "\n",
    "Use either or both of the lbraries in this exercise."
   ]
  },
  {
   "cell_type": "markdown",
   "metadata": {},
   "source": [
    "## Uniform Distribution\n",
    "\n",
    "To generate uniform random numbers between any two given values using scipy, we can either use the following code or the code that we have\n",
    "discussed in class:"
   ]
  },
  {
   "cell_type": "code",
   "execution_count": 9,
   "metadata": {},
   "outputs": [
    {
     "name": "stdout",
     "output_type": "stream",
     "text": [
      "[2.50258747 2.06638513 2.74173199 2.94919314 2.16679287 2.62688349\n",
      " 2.73228025 2.43781092 2.09340667 2.10297759]\n"
     ]
    }
   ],
   "source": [
    "x = uniform.rvs(size=10)\n",
    "a = 2\n",
    "b = 3\n",
    "randoms  = a + (b-a)*x\n",
    "print(randoms)"
   ]
  },
  {
   "cell_type": "markdown",
   "metadata": {},
   "source": [
    "**Your task:**\n",
    "\n",
    "1. Based on the code above, write a function that generates uniformly distributed random numbers. There are several requirements for your function:\n",
    "    * It should accept 3 parameters: \n",
    "        * `bottom` - the lower boundary of the generated numbers\n",
    "        * `ceiling` - the upper boundary of the generated numbers\n",
    "        * `count` - how many numbers to generate\n",
    "    * It should return an array of uniformly distributed random numbers\n",
    "\n",
    "1. Call your function with 2 sets of params below:\n",
    "    * bottom=10, ceiling=15, count=100\n",
    "    * bottom=10, ceiling=60, count=1,000\n",
    "\n",
    "1. Plot the uniform distributions generated above using histograms, where x axis is the value and y axis is the count. Let the histogram's number of bins be 10.\n",
    "\n",
    "Your output should look like below:\n",
    "\n",
    "![uniform distribution](ud.png)"
   ]
  },
  {
   "cell_type": "code",
   "execution_count": 13,
   "metadata": {},
   "outputs": [
    {
     "data": {
      "image/png": "[encoded data removed]",
      "text/plain": [
       "<Figure size 432x288 with 1 Axes>"
      ]
     },
     "metadata": {
      "needs_background": "light"
     },
     "output_type": "display_data"
    }
   ],
   "source": [
    "# your code here\n",
    "x = uniform.rvs(size=100)\n",
    "a = 10\n",
    "b = 15\n",
    "randoms  = a + (b-a)*x\n",
    "randoms\n",
    "\n",
    "plt.hist(randoms)\n",
    "plt.show()"
   ]
  },
  {
   "cell_type": "code",
   "execution_count": 14,
   "metadata": {},
   "outputs": [
    {
     "data": {
      "image/png": "[encoded data removed]",
      "text/plain": [
       "<Figure size 432x288 with 1 Axes>"
      ]
     },
     "metadata": {
      "needs_background": "light"
     },
     "output_type": "display_data"
    }
   ],
   "source": [
    "x = uniform.rvs(size=1000)\n",
    "a = 10\n",
    "b = 60\n",
    "randoms  = a + (b-a)*x\n",
    "randoms\n",
    "\n",
    "plt.hist(randoms)\n",
    "plt.show()"
   ]
  },
  {
   "cell_type": "markdown",
   "metadata": {},
   "source": [
    "How are the two distributions different?"
   ]
  },
  {
   "cell_type": "code",
   "execution_count": null,
   "metadata": {},
   "outputs": [],
   "source": [
    "# your answer here:\n"
   ]
  },
  {
   "cell_type": "markdown",
   "metadata": {},
   "source": [
    "## Normal Distribution\n",
    "\n",
    "1. In the same way in the Uniform Distribution challenge, write a function that generates normally distributed random numbers.\n",
    "1. Generate 1,000 normally distributed numbers with the average of 10 and standard deviation of 1\n",
    "1. Generate 1,000 normally distributed numbers with the average of 10 and standard deviation of 50\n",
    "2. Plot the distributions of the data generated.\n",
    "\n",
    "Expected output:\n",
    "\n",
    "![normal distribution](nd.png)"
   ]
  },
  {
   "cell_type": "code",
   "execution_count": 18,
   "metadata": {},
   "outputs": [
    {
     "data": {
      "text/plain": [
       "array([ 26.40685945,  12.4510575 ,  11.22249486,  -2.56937795,\n",
       "        -1.75173807,   9.79957856,  10.11609537,  19.05762723,\n",
       "        16.09097019,   8.69366334,   3.62316948,   2.8495927 ,\n",
       "        10.83115003,   8.13378304,  23.84896589,  15.27187795,\n",
       "         6.9935384 ,   4.55406909,  16.22921435,  23.68225188,\n",
       "        25.92732305,   1.81111433,   5.95740999,   5.72745035,\n",
       "        10.65970647,   7.35768231,  11.22883707,   1.73912634,\n",
       "        -4.17096918,  10.48953457,  -1.71313187,  21.27728905,\n",
       "         3.48678623,  13.20868925,  -3.08706288,  -0.13158713,\n",
       "         1.52647631,   5.71402825,  10.35909871,  -9.27722029,\n",
       "         5.89453572,   5.16633898,  18.66839663,  11.36833763,\n",
       "        -1.44785624,  13.76977129,  12.64315769,  17.48305249,\n",
       "         5.5095767 ,  21.61478553,  10.61725744,   5.01808151,\n",
       "        -3.76382324,  14.40180989,   7.07354703,  13.93458099,\n",
       "         8.97642908,   1.68008108,   8.67389359,   4.34955014,\n",
       "        26.86810543,   8.12226428,  18.63975171,  23.40823164,\n",
       "        11.41482162,   3.79907342,  13.09184487,  15.72600945,\n",
       "        14.2534481 ,  -4.7869673 ,  12.42750747,  14.72390098,\n",
       "         0.48603303,  12.36115615,  12.10859484,  -6.18475287,\n",
       "        12.80385662,   9.78038204,   4.55209444,  24.49262628,\n",
       "        24.13520681,   9.7614003 ,  16.52261068,  10.27653537,\n",
       "        15.16906237,   5.98292641,  12.36564019,  10.5002407 ,\n",
       "        -6.34234712,  -3.99902759,   9.47322565,  -2.93830399,\n",
       "         8.13091264,  10.74949274,  22.34369795,   9.4509956 ,\n",
       "        -8.58738919,   3.36321611,  10.53460598,  -1.07884554,\n",
       "        -5.43244474,  -1.56096329,  -2.28567043,  18.77178024,\n",
       "         0.43268456,  -4.05289765,  22.41091532,   9.86277082,\n",
       "        -1.77647559,  13.62020046,  -1.56115363,   7.47103294,\n",
       "         9.40367414, -14.22828892,   5.19299705,  14.93765357,\n",
       "         0.04927863,  22.69520236,   7.20449253,   3.541892  ,\n",
       "         9.91883597,  10.55009934,  11.54106335,  -7.73273208,\n",
       "         2.02866971,  23.74276489,   6.61371339,   6.03732296,\n",
       "         5.73092642,  10.23757351,   5.59960833,  12.44982099,\n",
       "        10.95803688,  24.2524649 ,   8.76902849,  14.05133273,\n",
       "         5.45699743,  18.15125105,   1.87003238,  18.08157525,\n",
       "        13.39894972, -16.55702595,  30.20667477,   0.73847421,\n",
       "        14.84237996,  11.16416121,   5.88195265,  -5.31632215,\n",
       "         8.05559426,   8.11625945,  26.51039965,  26.33926669,\n",
       "         2.73880197,  18.02671382,  -1.63553274,   0.2971976 ,\n",
       "        24.59498787,  13.69126233,  20.61297917,  23.27597442,\n",
       "        18.18391689,  18.19884561,   7.04727128,  15.5572663 ,\n",
       "         1.93090402,   5.18731305,  13.3206564 ,  14.08563451,\n",
       "         4.05076792,   6.45801192,  30.11574073,  16.50623104,\n",
       "        23.33447183,   8.55116617,  12.77813438,  13.16155164,\n",
       "        24.48550378,  24.25988878,  14.3397656 , -11.93135967,\n",
       "        -1.85376044,   2.23903436,   9.46122993,  21.46965154,\n",
       "        -6.55457332,  -0.9091941 ,  14.49630344,  15.0993864 ,\n",
       "        10.73803052,  20.55140028,  17.6487769 ,   7.33846404,\n",
       "         6.15432659,  -1.60082031,   8.12454637,  15.85584825,\n",
       "        -0.31977021,   7.08427052,   9.48972454,  10.72090147,\n",
       "        24.1604578 ,  16.86027148,  12.20437205, -11.04238347,\n",
       "        17.51981759,   8.30803635,  21.31699011,   6.15917096,\n",
       "        11.33509433,   3.21103588,  11.14749272,   6.86868629,\n",
       "         9.62701221,   8.46148384,  11.33826123,   8.32906523,\n",
       "         5.95404541,  21.17303883,   3.07085226,  -5.32686451,\n",
       "         7.38461598,  25.65352531,  13.81892296,  19.90768626,\n",
       "        -1.48277973,  18.3368764 ,   9.20041247,  -6.78252029,\n",
       "        13.21039733,   6.20203919,  10.41653584,   4.92200362,\n",
       "         2.87992776,  13.64891491,  12.37928557,  22.25804099,\n",
       "        16.94242032,  18.39980777,  13.85803231,  13.51170288,\n",
       "        22.72964754,   4.92806231,  22.22125345,   1.96845994,\n",
       "        22.63152214,   9.63745805,   5.01391378,  14.70494812,\n",
       "        29.64689195,   6.57798823,   5.40260188,  18.54643042,\n",
       "        -0.86165875,  18.03579577,   9.57210123,  -2.1993331 ,\n",
       "        21.98086968,   7.04444524,  24.42960794,  12.03433852,\n",
       "        18.34471453,   2.76633813,  20.31953391,   5.13200414,\n",
       "         9.55908243,  16.05321697,  18.50753454,  23.88123681,\n",
       "        17.21553502,  -1.11404307,   7.59700542,  12.72039159,\n",
       "        15.11522717,  11.19976778,   5.71425953,   8.42779576,\n",
       "        11.08966808,   9.38287835,  -1.4427384 ,   4.62002599,\n",
       "         7.55960071,  23.24235169,  -7.37017449,  17.58892387,\n",
       "        10.81612999,   3.92252529,  13.20025586,  -2.90113744,\n",
       "         2.93700558,  25.41272087,  13.23953871,  -2.60923869,\n",
       "         8.0209807 ,  -7.12991052,   2.12476666,   9.44578526,\n",
       "         5.14092022,  11.27663771,  -3.0476168 ,   2.26338231,\n",
       "        12.77382095,  23.55383716,   1.62903215,  30.63874896,\n",
       "         5.44211827,   0.62272661,   0.63481489,  14.71262052,\n",
       "        -1.68640893,  -8.78401198,   1.48573946,  23.46128626,\n",
       "         7.11578546,   7.07119214,  -4.21592191,  -6.42230686,\n",
       "        15.34112087,   4.45320286,   7.33130608,   1.18119506,\n",
       "        13.31873583,  11.43035577,   7.10127951,  14.51834917,\n",
       "        12.77795048,  11.10347026,  -5.19430752,   5.52722106,\n",
       "         0.7691781 ,  22.18197924,  13.24435263,  18.81922718,\n",
       "        24.10535749, -14.04775893,   2.36766915,   2.88411276,\n",
       "         4.89683907,  -5.43277878,   6.61382132,  16.30724299,\n",
       "        12.84783731,   8.84941973,  23.38400073,   8.52124715,\n",
       "        16.40298713,   9.57083082,   8.21312502,   8.53908295,\n",
       "        22.91812514,  20.79014357,   2.00514938,   7.60684591,\n",
       "        11.76088142,   3.74931025,  14.16081486,  26.41092482,\n",
       "         9.22302595,   0.23870223,   9.50439043,  -5.30975309,\n",
       "         8.77344845,  -9.41498908,  14.51016653,  13.31323469,\n",
       "        -3.72901789,  -2.26030019,  23.01527541,   4.29304516,\n",
       "         3.87768774,  10.6220611 ,  14.76027732,  11.45008435,\n",
       "         7.7536305 ,  -3.58839222,  16.15327941,  -8.87459792,\n",
       "         2.80553883,  25.1055422 ,   1.94844524,  13.49011412,\n",
       "         6.84739621,  18.84056314,   5.66833808,   8.10266098,\n",
       "        26.58058243,   5.46721435,  10.07771822,   3.23443188,\n",
       "         7.98096248,   7.99411298,  13.04687679,   3.17766694,\n",
       "         9.30488795,  10.07269073,  18.38741655,  11.28212163,\n",
       "        18.40445363,   9.76604447,   5.70776526,  15.91865561,\n",
       "         5.54114557,  28.40939261,  19.6024104 ,  20.98752171,\n",
       "        12.66733461,  -2.24771096,   9.45488632,  20.96896949,\n",
       "         2.49576411,  11.53253113,   8.20182746,  13.17493033,\n",
       "        11.93103522,  10.48789011,  13.04828902,  10.8380824 ,\n",
       "        10.05487876,  21.1716252 ,   6.96014316,  -2.34217715,\n",
       "        20.87624846,  15.77050828,  -5.01096823,  21.45492006,\n",
       "        18.84222023,   1.32644765,  -4.24047814,   6.18224938,\n",
       "         5.52296218,  14.77555206,   7.37163092,   6.62516657,\n",
       "        28.03093797,  33.02535612,  14.67847158,  -1.79988592,\n",
       "        22.09622894,  -3.18649545,  11.86400381,  15.21891584,\n",
       "         4.43569113,   5.42427399,  -0.7791337 ,   0.69086915,\n",
       "         7.34511997,   0.83631457,  13.49353128,   3.16626366,\n",
       "         3.07503778,   6.58727938,  11.72786021,  16.52444713,\n",
       "         0.24142445,   3.9811649 ,  10.48890185,   8.79859488,\n",
       "        12.51598369,   6.19042245,  24.33793475,  21.36904599,\n",
       "        -0.52980734,   6.43365091,  27.0798358 ,   0.93290214,\n",
       "        12.60708682,  -1.02421348,  18.15634831,   4.7519389 ,\n",
       "        16.6885337 ,  18.79624008,  25.98536483,   9.50324698,\n",
       "        12.91060444,   0.68156983,   4.04196665,  19.19293726,\n",
       "        13.57759697,  16.53549578,   9.65591901,   8.35290961,\n",
       "         7.83437054,   6.03643483,  11.5749044 ,   4.32986383,\n",
       "        24.34709716,  11.88969338,  11.02533895,   5.99515628,\n",
       "        16.69522068,  16.61078042,   9.42202214,  12.67638142,\n",
       "         1.89249189,   5.85929832,  19.84025878,  10.14227061,\n",
       "        23.79681286,  14.73353751,  10.92607809,   2.58326467,\n",
       "        15.72602202,  10.92414764,  22.5148797 ,  -0.34778255,\n",
       "        17.44208119,  20.63499923,  22.90682134,   4.07331316,\n",
       "        14.43081762,  16.85351196,  13.50266364,  -3.81841262,\n",
       "        25.90556374,  19.46229097,   7.46520372,  13.95223209,\n",
       "         5.28480628,  24.20511205,  16.43503371,  12.6815709 ,\n",
       "         0.82132283,  24.81697691,  11.14207646,  15.3035443 ,\n",
       "        29.97066502,  10.1699162 ,  14.54052102,  14.55107347,\n",
       "         4.73596031,  15.33282096,   5.04586284,  -0.08052334,\n",
       "        18.28652502,  16.76000293,  22.66078831,   9.05195359,\n",
       "        10.9487045 ,   4.62248342,   8.14620466,  -0.91604232,\n",
       "         7.16179685,  20.21095651,   6.78781154,   2.98998198,\n",
       "        23.05650177,  17.97204857,   4.60452848,   9.90004879,\n",
       "         3.17886427,  10.73818325,   2.68095948,  22.37357527,\n",
       "        11.02509108,  16.10131577,  10.36943117,  15.79241574,\n",
       "         9.40010228,   3.66103911,  -6.87437643,  -0.77276874,\n",
       "        13.096489  ,   3.99059713,  19.81824815,  10.82747689,\n",
       "         6.08767131,   4.65237546,   9.09869225,  14.39779121,\n",
       "         6.64182142,  15.47400366,  12.12817737,  14.56729812,\n",
       "        12.63013746,   3.69261677,   9.76135804,   7.12401278,\n",
       "        18.37781594,   0.60323206, -19.10583677,   0.6065611 ,\n",
       "        17.40557322,  18.35177198,   2.80887199,   0.61510538,\n",
       "        11.57970954,  14.96354589,  30.79326657,   4.44662022,\n",
       "        -3.23913839,   4.46391461,  12.48847415,  18.06656737,\n",
       "        14.22292133,   8.19164558,   4.23855307,   9.41214739,\n",
       "        34.36943588,  16.94318844,   7.25665061,  -6.92498013,\n",
       "         1.84009812,   8.31195217,  23.83495461,   9.18829938,\n",
       "         1.58623831,  14.36022235,  11.83583525,   8.58045389,\n",
       "        16.03046163,  15.44668265,  24.54080424,   4.12690945,\n",
       "         6.51416257,  16.10471411,  11.22867094,  19.95977782,\n",
       "        15.3146748 ,  10.7881196 ,   7.16522515,   9.23007364,\n",
       "         8.815781  ,  -5.48511479,   8.41887916,   0.27508551,\n",
       "         5.11220869,   9.8761563 ,   3.18244496,   9.33386477,\n",
       "         3.12606337,  -0.2192716 ,  11.61410932,  16.07054588,\n",
       "        -1.7289617 ,  25.55744536,   9.37304157,   0.49740212,\n",
       "         8.01176518,  19.25541195,  18.9189214 ,   9.77276101,\n",
       "         9.72527804,  -0.52033023,   6.63876782,   6.39633079,\n",
       "        19.83223282,   0.19437945,  12.72515095,   2.00760703,\n",
       "         4.42802418,  13.32183154,  14.63889915,   3.49693987,\n",
       "        11.3065407 ,   4.95221363,   9.62961663,  18.10159105,\n",
       "         4.84917409,  -8.14692452,  -0.36018987,  15.36948907,\n",
       "         3.9584732 ,   3.8171289 ,  17.27866962,  13.55928651,\n",
       "         6.23383515,  12.75008213,  10.87646771,   6.30610422,\n",
       "        22.45571157,  12.24963576,  -0.13423369,  12.38850831,\n",
       "        19.08771634,   9.85053151,   7.51213235,   9.03387624,\n",
       "        12.93912663,  15.17774946,  15.39954262,  -3.44945697,\n",
       "        10.01882042,   8.12010657,  19.45541063,  18.51456146,\n",
       "        14.78935898,  19.34018267,  18.74629074,  17.91559294,\n",
       "         3.16426755,   0.2494723 ,  -1.23572598,   5.06372011,\n",
       "         5.07062144,   8.03265194,  26.87684075,  10.58870851,\n",
       "        19.38242907,  11.34572873,  18.08403034,   9.41978751,\n",
       "         6.029639  ,  16.6279863 ,  15.30833454,  21.44863374,\n",
       "        19.09865781,  14.01200954,  -9.10172869,  -2.1588877 ,\n",
       "        17.6427972 ,  -4.28281245,  20.313428  ,   2.38183838,\n",
       "        30.50333748, -10.67997405,   5.25677294, -14.95108164,\n",
       "        -0.3061592 ,   2.70625538,  22.18568965,  16.83055253,\n",
       "        16.93524908,  10.11366504,  23.32713037,  16.63404992,\n",
       "        39.56645559,   6.24826429,   8.44236783,  12.9342166 ,\n",
       "        12.55206864,  21.86952087,   3.96483613,  18.03791531,\n",
       "        12.95336579,   1.21442362,   2.25431294,  28.98467187,\n",
       "        23.16513908,  -0.90859375,   6.96670536,   7.35130978,\n",
       "        13.98132267,  -3.53014816,   1.75001382,  10.76939994,\n",
       "        10.36985854,  -4.73972996,  -6.51981454,  13.0260562 ,\n",
       "         9.91717003,  15.02021706,  23.51188153, -13.33148884,\n",
       "        14.08488613,  11.84643501,  20.44056708,   4.60662646,\n",
       "        11.99281633,  10.89765609,   5.07734641,   0.33790181,\n",
       "        29.58010739, -11.94024648,  16.83426832,  22.13457251,\n",
       "         2.83891172,   6.91396054,   2.97328969,   2.11569231,\n",
       "        16.46905987,  15.8156902 ,   9.43284774,  15.91215779,\n",
       "        12.10176124,   2.59718651,  -0.11409263,   4.90046487,\n",
       "         7.75204463,  13.90940012,   4.55026654,   3.33734627,\n",
       "        21.15968863,  -5.33527748,  12.89004667,   8.58516698,\n",
       "         5.7991474 ,  -3.42515625, -10.09967998,  13.07149447,\n",
       "         5.59974049,  -8.83542832,  20.94185377,  11.20018396,\n",
       "         6.30149493,   4.18094147,   3.89650086,  10.1796273 ,\n",
       "        12.23807199,  15.23114904,  23.9440298 ,  12.49142779,\n",
       "         8.27382804,  22.1818973 ,  20.61622768,  16.24883123,\n",
       "         7.03009101,   1.04993068,   7.22168056,  11.17032951,\n",
       "        16.43264892,   3.82711067,  11.4051453 ,   2.92892811,\n",
       "         7.60984052,  10.57813759,   3.58309788,   5.2187025 ,\n",
       "        17.2462341 ,  13.69349536,  14.45271503,   0.87143565,\n",
       "        16.60335506,  12.66781395,  16.61687536,  -0.14919624,\n",
       "        20.46800134,  15.22625945,  15.38860841,   0.60875572,\n",
       "        20.0995798 ,  -8.84911711,  14.02220872,  -3.05087002,\n",
       "         7.37783942,  14.36195597,  17.27209423,  -3.06929311,\n",
       "       -12.27767918,  24.11400115,   9.46007861,  16.86225133,\n",
       "        17.03498166,   5.31212746,  24.4095571 ,   9.32617281,\n",
       "       -11.16295217,   4.22398748,   7.40503072,  -3.71187721,\n",
       "         6.40796825,  14.35349181,  26.49725567,  31.52599319,\n",
       "         5.80991861,  17.40940036,  16.78058306,  22.8084828 ,\n",
       "         2.80217343,   7.99905436,  11.96438827,   4.21541347,\n",
       "        15.33817271,  21.06056882,   0.98369191,  16.44924222,\n",
       "         8.09142994,  -7.62093141,   7.41266827,  24.05533981,\n",
       "         9.77020561,   3.43822987,  16.08005388,  16.78024689,\n",
       "         9.03597428,   6.2725544 ,  15.91314063,   8.13898174,\n",
       "       -13.12380287,   7.85379933,   5.41871783,  18.81575234,\n",
       "         7.04606426,   7.55520905,  -2.81033105,   8.28549569,\n",
       "        12.25839979,  13.92886037,   5.1482746 ,   5.87341995,\n",
       "         7.06445932,   8.61438963,  22.6629577 ,  10.66426063,\n",
       "        -8.05728919,  13.47531031,   5.23504085,  -2.63187571,\n",
       "         3.12913052,   1.95928423,  27.53305398,  14.91213269,\n",
       "        12.98747813,  13.19454678,  18.18997809,  11.81524481,\n",
       "        15.00640632,  14.52046324,  -5.16047672,  16.86984979,\n",
       "        -2.90426327,   9.83305655,   4.8936259 ,  13.14916409,\n",
       "        10.76546263,  22.44588835,   3.95017797,  16.59544525,\n",
       "        18.15731772,  17.16929418,  21.41951846,  22.4551446 ,\n",
       "         9.7445778 ,   5.26539884,  -0.04155091,   5.77835136,\n",
       "         8.61263566,   3.21314513,  -2.54607891,   6.24447911,\n",
       "         4.55711761,   1.17137961,  13.25429696,  -1.18948061,\n",
       "        29.44920408,  17.09547018,   3.32898248,   2.70915394,\n",
       "        15.89898698,  19.51658564,   6.33814668,  19.34933578,\n",
       "         6.95558138,  17.45957634,  14.09841593,  23.82888704,\n",
       "         1.69859141,  20.76889511,   1.9786257 , -10.35931572,\n",
       "        23.01242497,   1.63821335,  16.82219338,  11.16979976,\n",
       "        12.59872989,   6.66949062,  10.67769938,   8.87231859,\n",
       "        30.19413854,  20.89410018,  12.39151076,  14.12118583,\n",
       "         1.52374719,   6.93743667,  19.7672467 ,  10.05289575,\n",
       "        -2.69256633,   4.78045755,  14.41669692,  23.59719372,\n",
       "        11.30224837,  25.00670722,  -3.93719789,  23.91223343,\n",
       "        19.12334523,  14.43430748,  21.36434023,  12.00177441,\n",
       "        10.37166121,  11.07129331,  15.2882822 ,  14.11918917,\n",
       "        -2.51962025,   6.31642169,   6.22096087,   3.9192632 ,\n",
       "         7.96028533,  20.61189519,  -2.65722855,  14.97190302,\n",
       "        25.47605416,  22.2891408 ,  10.26764122,   4.26910662,\n",
       "         6.2667014 ,  -4.08647755,  12.92242966,  15.3233095 ,\n",
       "         4.78886571,  -8.60937546,  14.41065992,  14.82906268])"
      ]
     },
     "execution_count": 18,
     "metadata": {},
     "output_type": "execute_result"
    }
   ],
   "source": [
    "# your code here\n",
    "x = norm.rvs(size=1000)\n",
    "a = 10\n",
    "b = 1\n",
    "randoms  = a + (b-a)*x\n",
    "randoms"
   ]
  },
  {
   "cell_type": "markdown",
   "metadata": {},
   "source": [
    "How are the two distributions different?"
   ]
  },
  {
   "cell_type": "code",
   "execution_count": null,
   "metadata": {},
   "outputs": [],
   "source": [
    "# your answer here:\n"
   ]
  },
  {
   "cell_type": "markdown",
   "metadata": {},
   "source": [
    "## Normal Distribution of Real Data\n",
    "\n",
    "In this challenge we are going to take a look the real data. We will use vehicles.csv file for this exercise"
   ]
  },
  {
   "cell_type": "markdown",
   "metadata": {},
   "source": [
    "First import vehicles.csv.\n",
    "Then plot the histograms for the following variables:\n",
    "\n",
    "1. Fuel Barrels/Year"
   ]
  },
  {
   "cell_type": "code",
   "execution_count": 23,
   "metadata": {},
   "outputs": [
    {
     "data": {
      "text/html": [
       "<div>\n",
       "<style scoped>\n",
       "    .dataframe tbody tr th:only-of-type {\n",
       "        vertical-align: middle;\n",
       "    }\n",
       "\n",
       "    .dataframe tbody tr th {\n",
       "        vertical-align: top;\n",
       "    }\n",
       "\n",
       "    .dataframe thead th {\n",
       "        text-align: right;\n",
       "    }\n",
       "</style>\n",
       "<table border=\"1\" class=\"dataframe\">\n",
       "  <thead>\n",
       "    <tr style=\"text-align: right;\">\n",
       "      <th></th>\n",
       "      <th>Make</th>\n",
       "      <th>Model</th>\n",
       "      <th>Year</th>\n",
       "      <th>Engine Displacement</th>\n",
       "      <th>Cylinders</th>\n",
       "      <th>Transmission</th>\n",
       "      <th>Drivetrain</th>\n",
       "      <th>Vehicle Class</th>\n",
       "      <th>Fuel Type</th>\n",
       "      <th>Fuel Barrels/Year</th>\n",
       "      <th>City MPG</th>\n",
       "      <th>Highway MPG</th>\n",
       "      <th>Combined MPG</th>\n",
       "      <th>CO2 Emission Grams/Mile</th>\n",
       "      <th>Fuel Cost/Year</th>\n",
       "    </tr>\n",
       "  </thead>\n",
       "  <tbody>\n",
       "    <tr>\n",
       "      <th>0</th>\n",
       "      <td>AM General</td>\n",
       "      <td>DJ Po Vehicle 2WD</td>\n",
       "      <td>1984</td>\n",
       "      <td>2.5</td>\n",
       "      <td>4.0</td>\n",
       "      <td>Automatic 3-spd</td>\n",
       "      <td>2-Wheel Drive</td>\n",
       "      <td>Special Purpose Vehicle 2WD</td>\n",
       "      <td>Regular</td>\n",
       "      <td>19.388824</td>\n",
       "      <td>18</td>\n",
       "      <td>17</td>\n",
       "      <td>17</td>\n",
       "      <td>522.764706</td>\n",
       "      <td>1950</td>\n",
       "    </tr>\n",
       "    <tr>\n",
       "      <th>1</th>\n",
       "      <td>AM General</td>\n",
       "      <td>FJ8c Post Office</td>\n",
       "      <td>1984</td>\n",
       "      <td>4.2</td>\n",
       "      <td>6.0</td>\n",
       "      <td>Automatic 3-spd</td>\n",
       "      <td>2-Wheel Drive</td>\n",
       "      <td>Special Purpose Vehicle 2WD</td>\n",
       "      <td>Regular</td>\n",
       "      <td>25.354615</td>\n",
       "      <td>13</td>\n",
       "      <td>13</td>\n",
       "      <td>13</td>\n",
       "      <td>683.615385</td>\n",
       "      <td>2550</td>\n",
       "    </tr>\n",
       "    <tr>\n",
       "      <th>2</th>\n",
       "      <td>AM General</td>\n",
       "      <td>Post Office DJ5 2WD</td>\n",
       "      <td>1985</td>\n",
       "      <td>2.5</td>\n",
       "      <td>4.0</td>\n",
       "      <td>Automatic 3-spd</td>\n",
       "      <td>Rear-Wheel Drive</td>\n",
       "      <td>Special Purpose Vehicle 2WD</td>\n",
       "      <td>Regular</td>\n",
       "      <td>20.600625</td>\n",
       "      <td>16</td>\n",
       "      <td>17</td>\n",
       "      <td>16</td>\n",
       "      <td>555.437500</td>\n",
       "      <td>2100</td>\n",
       "    </tr>\n",
       "    <tr>\n",
       "      <th>3</th>\n",
       "      <td>AM General</td>\n",
       "      <td>Post Office DJ8 2WD</td>\n",
       "      <td>1985</td>\n",
       "      <td>4.2</td>\n",
       "      <td>6.0</td>\n",
       "      <td>Automatic 3-spd</td>\n",
       "      <td>Rear-Wheel Drive</td>\n",
       "      <td>Special Purpose Vehicle 2WD</td>\n",
       "      <td>Regular</td>\n",
       "      <td>25.354615</td>\n",
       "      <td>13</td>\n",
       "      <td>13</td>\n",
       "      <td>13</td>\n",
       "      <td>683.615385</td>\n",
       "      <td>2550</td>\n",
       "    </tr>\n",
       "    <tr>\n",
       "      <th>4</th>\n",
       "      <td>ASC Incorporated</td>\n",
       "      <td>GNX</td>\n",
       "      <td>1987</td>\n",
       "      <td>3.8</td>\n",
       "      <td>6.0</td>\n",
       "      <td>Automatic 4-spd</td>\n",
       "      <td>Rear-Wheel Drive</td>\n",
       "      <td>Midsize Cars</td>\n",
       "      <td>Premium</td>\n",
       "      <td>20.600625</td>\n",
       "      <td>14</td>\n",
       "      <td>21</td>\n",
       "      <td>16</td>\n",
       "      <td>555.437500</td>\n",
       "      <td>2550</td>\n",
       "    </tr>\n",
       "    <tr>\n",
       "      <th>...</th>\n",
       "      <td>...</td>\n",
       "      <td>...</td>\n",
       "      <td>...</td>\n",
       "      <td>...</td>\n",
       "      <td>...</td>\n",
       "      <td>...</td>\n",
       "      <td>...</td>\n",
       "      <td>...</td>\n",
       "      <td>...</td>\n",
       "      <td>...</td>\n",
       "      <td>...</td>\n",
       "      <td>...</td>\n",
       "      <td>...</td>\n",
       "      <td>...</td>\n",
       "      <td>...</td>\n",
       "    </tr>\n",
       "    <tr>\n",
       "      <th>35947</th>\n",
       "      <td>smart</td>\n",
       "      <td>fortwo coupe</td>\n",
       "      <td>2013</td>\n",
       "      <td>1.0</td>\n",
       "      <td>3.0</td>\n",
       "      <td>Auto(AM5)</td>\n",
       "      <td>Rear-Wheel Drive</td>\n",
       "      <td>Two Seaters</td>\n",
       "      <td>Premium</td>\n",
       "      <td>9.155833</td>\n",
       "      <td>34</td>\n",
       "      <td>38</td>\n",
       "      <td>36</td>\n",
       "      <td>244.000000</td>\n",
       "      <td>1100</td>\n",
       "    </tr>\n",
       "    <tr>\n",
       "      <th>35948</th>\n",
       "      <td>smart</td>\n",
       "      <td>fortwo coupe</td>\n",
       "      <td>2014</td>\n",
       "      <td>1.0</td>\n",
       "      <td>3.0</td>\n",
       "      <td>Auto(AM5)</td>\n",
       "      <td>Rear-Wheel Drive</td>\n",
       "      <td>Two Seaters</td>\n",
       "      <td>Premium</td>\n",
       "      <td>9.155833</td>\n",
       "      <td>34</td>\n",
       "      <td>38</td>\n",
       "      <td>36</td>\n",
       "      <td>243.000000</td>\n",
       "      <td>1100</td>\n",
       "    </tr>\n",
       "    <tr>\n",
       "      <th>35949</th>\n",
       "      <td>smart</td>\n",
       "      <td>fortwo coupe</td>\n",
       "      <td>2015</td>\n",
       "      <td>1.0</td>\n",
       "      <td>3.0</td>\n",
       "      <td>Auto(AM5)</td>\n",
       "      <td>Rear-Wheel Drive</td>\n",
       "      <td>Two Seaters</td>\n",
       "      <td>Premium</td>\n",
       "      <td>9.155833</td>\n",
       "      <td>34</td>\n",
       "      <td>38</td>\n",
       "      <td>36</td>\n",
       "      <td>244.000000</td>\n",
       "      <td>1100</td>\n",
       "    </tr>\n",
       "    <tr>\n",
       "      <th>35950</th>\n",
       "      <td>smart</td>\n",
       "      <td>fortwo coupe</td>\n",
       "      <td>2016</td>\n",
       "      <td>0.9</td>\n",
       "      <td>3.0</td>\n",
       "      <td>Auto(AM6)</td>\n",
       "      <td>Rear-Wheel Drive</td>\n",
       "      <td>Two Seaters</td>\n",
       "      <td>Premium</td>\n",
       "      <td>9.155833</td>\n",
       "      <td>34</td>\n",
       "      <td>39</td>\n",
       "      <td>36</td>\n",
       "      <td>246.000000</td>\n",
       "      <td>1100</td>\n",
       "    </tr>\n",
       "    <tr>\n",
       "      <th>35951</th>\n",
       "      <td>smart</td>\n",
       "      <td>fortwo coupe</td>\n",
       "      <td>2016</td>\n",
       "      <td>0.9</td>\n",
       "      <td>3.0</td>\n",
       "      <td>Manual 5-spd</td>\n",
       "      <td>Rear-Wheel Drive</td>\n",
       "      <td>Two Seaters</td>\n",
       "      <td>Premium</td>\n",
       "      <td>9.417429</td>\n",
       "      <td>32</td>\n",
       "      <td>39</td>\n",
       "      <td>35</td>\n",
       "      <td>255.000000</td>\n",
       "      <td>1150</td>\n",
       "    </tr>\n",
       "  </tbody>\n",
       "</table>\n",
       "<p>35952 rows × 15 columns</p>\n",
       "</div>"
      ],
      "text/plain": [
       "                   Make                Model  Year  Engine Displacement  \\\n",
       "0            AM General    DJ Po Vehicle 2WD  1984                  2.5   \n",
       "1            AM General     FJ8c Post Office  1984                  4.2   \n",
       "2            AM General  Post Office DJ5 2WD  1985                  2.5   \n",
       "3            AM General  Post Office DJ8 2WD  1985                  4.2   \n",
       "4      ASC Incorporated                  GNX  1987                  3.8   \n",
       "...                 ...                  ...   ...                  ...   \n",
       "35947             smart         fortwo coupe  2013                  1.0   \n",
       "35948             smart         fortwo coupe  2014                  1.0   \n",
       "35949             smart         fortwo coupe  2015                  1.0   \n",
       "35950             smart         fortwo coupe  2016                  0.9   \n",
       "35951             smart         fortwo coupe  2016                  0.9   \n",
       "\n",
       "       Cylinders     Transmission        Drivetrain  \\\n",
       "0            4.0  Automatic 3-spd     2-Wheel Drive   \n",
       "1            6.0  Automatic 3-spd     2-Wheel Drive   \n",
       "2            4.0  Automatic 3-spd  Rear-Wheel Drive   \n",
       "3            6.0  Automatic 3-spd  Rear-Wheel Drive   \n",
       "4            6.0  Automatic 4-spd  Rear-Wheel Drive   \n",
       "...          ...              ...               ...   \n",
       "35947        3.0        Auto(AM5)  Rear-Wheel Drive   \n",
       "35948        3.0        Auto(AM5)  Rear-Wheel Drive   \n",
       "35949        3.0        Auto(AM5)  Rear-Wheel Drive   \n",
       "35950        3.0        Auto(AM6)  Rear-Wheel Drive   \n",
       "35951        3.0     Manual 5-spd  Rear-Wheel Drive   \n",
       "\n",
       "                     Vehicle Class Fuel Type  Fuel Barrels/Year  City MPG  \\\n",
       "0      Special Purpose Vehicle 2WD   Regular          19.388824        18   \n",
       "1      Special Purpose Vehicle 2WD   Regular          25.354615        13   \n",
       "2      Special Purpose Vehicle 2WD   Regular          20.600625        16   \n",
       "3      Special Purpose Vehicle 2WD   Regular          25.354615        13   \n",
       "4                     Midsize Cars   Premium          20.600625        14   \n",
       "...                            ...       ...                ...       ...   \n",
       "35947                  Two Seaters   Premium           9.155833        34   \n",
       "35948                  Two Seaters   Premium           9.155833        34   \n",
       "35949                  Two Seaters   Premium           9.155833        34   \n",
       "35950                  Two Seaters   Premium           9.155833        34   \n",
       "35951                  Two Seaters   Premium           9.417429        32   \n",
       "\n",
       "       Highway MPG  Combined MPG  CO2 Emission Grams/Mile  Fuel Cost/Year  \n",
       "0               17            17               522.764706            1950  \n",
       "1               13            13               683.615385            2550  \n",
       "2               17            16               555.437500            2100  \n",
       "3               13            13               683.615385            2550  \n",
       "4               21            16               555.437500            2550  \n",
       "...            ...           ...                      ...             ...  \n",
       "35947           38            36               244.000000            1100  \n",
       "35948           38            36               243.000000            1100  \n",
       "35949           38            36               244.000000            1100  \n",
       "35950           39            36               246.000000            1100  \n",
       "35951           39            35               255.000000            1150  \n",
       "\n",
       "[35952 rows x 15 columns]"
      ]
     },
     "execution_count": 23,
     "metadata": {},
     "output_type": "execute_result"
    }
   ],
   "source": [
    "vehicles = pd.read_csv('vehicles.csv')\n",
    "vehicles"
   ]
  },
  {
   "cell_type": "code",
   "execution_count": 25,
   "metadata": {},
   "outputs": [
    {
     "data": {
      "image/png": "[encoded data removed]",
      "text/plain": [
       "<Figure size 432x288 with 1 Axes>"
      ]
     },
     "metadata": {
      "needs_background": "light"
     },
     "output_type": "display_data"
    }
   ],
   "source": [
    "# your code here\n",
    "plt.hist(vehicles['Fuel Barrels/Year'])\n",
    "plt.show()"
   ]
  },
  {
   "cell_type": "markdown",
   "metadata": {},
   "source": [
    "2. CO2 Emission Grams/Mile "
   ]
  },
  {
   "cell_type": "code",
   "execution_count": 27,
   "metadata": {},
   "outputs": [
    {
     "data": {
      "image/png": "[encoded data removed]",
      "text/plain": [
       "<Figure size 432x288 with 1 Axes>"
      ]
     },
     "metadata": {
      "needs_background": "light"
     },
     "output_type": "display_data"
    }
   ],
   "source": [
    "# your code here\n",
    "plt.hist(vehicles['CO2 Emission Grams/Mile'])\n",
    "plt.show()"
   ]
  },
  {
   "cell_type": "markdown",
   "metadata": {},
   "source": [
    "3. Combined MPG"
   ]
  },
  {
   "cell_type": "code",
   "execution_count": 28,
   "metadata": {},
   "outputs": [
    {
     "data": {
      "image/png": "[encoded data removed]",
      "text/plain": [
       "<Figure size 432x288 with 1 Axes>"
      ]
     },
     "metadata": {
      "needs_background": "light"
     },
     "output_type": "display_data"
    }
   ],
   "source": [
    "# your code here\n",
    "plt.hist(vehicles['Combined MPG'])\n",
    "plt.show()"
   ]
  },
  {
   "cell_type": "markdown",
   "metadata": {},
   "source": [
    "Which one(s) of the variables are nearly normally distributed? How do you know?"
   ]
  },
  {
   "cell_type": "code",
   "execution_count": null,
   "metadata": {},
   "outputs": [],
   "source": [
    "# you answer here:\n"
   ]
  },
  {
   "cell_type": "markdown",
   "metadata": {},
   "source": [
    "## Exponential Distribution"
   ]
  },
  {
   "cell_type": "markdown",
   "metadata": {},
   "source": [
    "1. Using `numpy.random.exponential`, create a function that returns a list of numbers exponentially distributed with the mean of 10. \n",
    "\n",
    "1. Use the function to generate two number sequences with a mean of 1 and 100 and a size of 1000.\n",
    "\n",
    "1. Plot the distributions as histograms with the number of bins as 100.\n",
    "\n",
    "Your output should look like below:\n",
    "\n",
    "![exponential distribution](ed.png)"
   ]
  },
  {
   "cell_type": "code",
   "execution_count": 33,
   "metadata": {},
   "outputs": [
    {
     "data": {
      "text/plain": [
       "<function RandomState.exponential>"
      ]
     },
     "execution_count": 33,
     "metadata": {},
     "output_type": "execute_result"
    }
   ],
   "source": [
    "# your code here\n"
   ]
  },
  {
   "cell_type": "markdown",
   "metadata": {},
   "source": [
    "How are the two distributions different?"
   ]
  },
  {
   "cell_type": "code",
   "execution_count": null,
   "metadata": {},
   "outputs": [],
   "source": [
    "# your answer here:\n"
   ]
  },
  {
   "cell_type": "markdown",
   "metadata": {},
   "source": [
    "## Exponential Distribution of Real Data\n",
    "\n",
    "Suppose that the amount of time one spends in a bank is exponentially distributed with mean as 10 minutes (i.e. λ = 1/10). What is the probability that a customer will spend less than fifteen minutes in the bank? \n",
    "\n",
    "Write a code in python to solve this problem"
   ]
  },
  {
   "cell_type": "code",
   "execution_count": 36,
   "metadata": {},
   "outputs": [
    {
     "data": {
      "text/plain": [
       "0.9179150013761012"
      ]
     },
     "execution_count": 36,
     "metadata": {},
     "output_type": "execute_result"
    }
   ],
   "source": [
    "# your answer here\n",
    "# Hint: This is same as saying P(x<15)\n",
    "\n",
    "lambda_inv = 60/15\n",
    "\n",
    "exp_distribution = expon(scale = lambda_inv)\n",
    "exp_distribution.cdf(10)"
   ]
  },
  {
   "cell_type": "markdown",
   "metadata": {},
   "source": [
    "What is the probability that the customer will spend more than 15 minutes"
   ]
  },
  {
   "cell_type": "code",
   "execution_count": null,
   "metadata": {},
   "outputs": [],
   "source": [
    "# your answer here\n"
   ]
  }
 ],
 "metadata": {
  "kernelspec": {
   "display_name": "Python 3",
   "language": "python",
   "name": "python3"
  },
  "language_info": {
   "codemirror_mode": {
    "name": "ipython",
    "version": 3
   },
   "file_extension": ".py",
   "mimetype": "text/x-python",
   "name": "python",
   "nbconvert_exporter": "python",
   "pygments_lexer": "ipython3",
   "version": "3.8.8"
  }
 },
 "nbformat": 4,
 "nbformat_minor": 2
}
